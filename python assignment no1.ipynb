{
 "cells": [
  {
   "cell_type": "code",
   "execution_count": null,
   "id": "c79a3f51",
   "metadata": {},
   "outputs": [],
   "source": [
    "python assignment number 1"
   ]
  },
  {
   "cell_type": "markdown",
   "id": "ee177e3a",
   "metadata": {},
   "source": [
    "1)expressions-*,-,/,+\n",
    "  values-'hello',-87.8,6"
   ]
  },
  {
   "cell_type": "code",
   "execution_count": null,
   "id": "f7014dae",
   "metadata": {},
   "outputs": [],
   "source": [
    "2)string- string start and end with single and double quotes\n",
    "          combination of multiple character\n",
    "    variable-it stores information\n",
    "             it represent any value"
   ]
  },
  {
   "cell_type": "code",
   "execution_count": null,
   "id": "0e42408b",
   "metadata": {},
   "outputs": [],
   "source": [
    "3)interger-it represnts mathematical integers\n",
    "float-it represents decimal numbers\n",
    "string-it reprsents word or character"
   ]
  },
  {
   "cell_type": "code",
   "execution_count": null,
   "id": "bbb59d96",
   "metadata": {},
   "outputs": [],
   "source": [
    "4)expression is made up of values and operators\n",
    "when statements are different then it gives a single value"
   ]
  },
  {
   "cell_type": "code",
   "execution_count": null,
   "id": "1accfe50",
   "metadata": {},
   "outputs": [],
   "source": [
    "5)an expression evaluates to a single value whereas statement doesnt"
   ]
  },
  {
   "cell_type": "code",
   "execution_count": 3,
   "id": "080a506f",
   "metadata": {},
   "outputs": [
    {
     "data": {
      "text/plain": [
       "23"
      ]
     },
     "execution_count": 3,
     "metadata": {},
     "output_type": "execute_result"
    }
   ],
   "source": [
    "6)   bacon=22\n",
    "bacon+(1)"
   ]
  },
  {
   "cell_type": "code",
   "execution_count": null,
   "id": "df1f190d",
   "metadata": {},
   "outputs": [],
   "source": [
    "7)'spamspamspam'"
   ]
  },
  {
   "cell_type": "code",
   "execution_count": null,
   "id": "1ba1c9ef",
   "metadata": {},
   "outputs": [],
   "source": [
    "8)because variables should always start with a letter"
   ]
  },
  {
   "cell_type": "code",
   "execution_count": null,
   "id": "96c06b37",
   "metadata": {},
   "outputs": [],
   "source": [
    "9)int() float() stirng()"
   ]
  },
  {
   "cell_type": "code",
   "execution_count": 8,
   "id": "05c71bac",
   "metadata": {},
   "outputs": [
    {
     "data": {
      "text/plain": [
       "'i have eaten99burritos'"
      ]
     },
     "execution_count": 8,
     "metadata": {},
     "output_type": "execute_result"
    }
   ],
   "source": [
    "10)'i have eaten'+str(99)+'burritos'"
   ]
  },
  {
   "cell_type": "code",
   "execution_count": null,
   "id": "38b4e0b1",
   "metadata": {},
   "outputs": [],
   "source": [
    "here 99 is a integer so it causes error"
   ]
  }
 ],
 "metadata": {
  "kernelspec": {
   "display_name": "Python 3 (ipykernel)",
   "language": "python",
   "name": "python3"
  },
  "language_info": {
   "codemirror_mode": {
    "name": "ipython",
    "version": 3
   },
   "file_extension": ".py",
   "mimetype": "text/x-python",
   "name": "python",
   "nbconvert_exporter": "python",
   "pygments_lexer": "ipython3",
   "version": "3.9.12"
  }
 },
 "nbformat": 4,
 "nbformat_minor": 5
}
